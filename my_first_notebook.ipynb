{
 "cells": [
  {
   "cell_type": "code",
   "execution_count": 1,
   "id": "b73f67af",
   "metadata": {},
   "outputs": [
    {
     "name": "stdout",
     "output_type": "stream",
     "text": [
      "Yo!\n"
     ]
    }
   ],
   "source": [
    "print(\"Yo!\")"
   ]
  },
  {
   "cell_type": "code",
   "execution_count": 2,
   "id": "f5fff9e2",
   "metadata": {},
   "outputs": [
    {
     "data": {
      "text/plain": [
       "246491681"
      ]
     },
     "execution_count": 2,
     "metadata": {},
     "output_type": "execute_result"
    }
   ],
   "source": [
    "2*123234134+23413"
   ]
  },
  {
   "cell_type": "code",
   "execution_count": 4,
   "id": "cfdc8f8f",
   "metadata": {},
   "outputs": [
    {
     "name": "stdout",
     "output_type": "stream",
     "text": [
      "Whatdaya want?!!\n"
     ]
    }
   ],
   "source": [
    "\n",
    "message = ('Whatdaya want?!!')\n",
    "print(message)"
   ]
  },
  {
   "cell_type": "code",
   "execution_count": null,
   "id": "b35a3b50",
   "metadata": {},
   "outputs": [],
   "source": [
    "# shift + return to run\n",
    "# command + , for preferences. :) \n",
    "# ESC + a = 1 above, ESC + b = 1 below"
   ]
  }
 ],
 "metadata": {
  "kernelspec": {
   "display_name": "Python 3 (ipykernel)",
   "language": "python",
   "name": "python3"
  },
  "language_info": {
   "codemirror_mode": {
    "name": "ipython",
    "version": 3
   },
   "file_extension": ".py",
   "mimetype": "text/x-python",
   "name": "python",
   "nbconvert_exporter": "python",
   "pygments_lexer": "ipython3",
   "version": "3.9.7"
  }
 },
 "nbformat": 4,
 "nbformat_minor": 5
}
